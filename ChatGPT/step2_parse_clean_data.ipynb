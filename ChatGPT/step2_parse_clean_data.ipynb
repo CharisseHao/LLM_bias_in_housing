{
 "cells": [
  {
   "cell_type": "code",
   "execution_count": null,
   "id": "4b790352",
   "metadata": {
    "tags": []
   },
   "outputs": [],
   "source": [
    "import sys\n",
    "sys.path.append('src/')\n",
    "from percentparser import parse_percentage\n",
    "\n",
    "import os\n",
    "import json\n",
    "import pandas as pd\n",
    "import glob\n",
    "import numpy as np\n",
    "import datetime\n",
    "import regex as re\n",
    "\n",
    "import warnings\n",
    "warnings.filterwarnings(\"ignore\")\n",
    "\n",
    "pd.set_option(\"display.max_rows\", 100)"
   ]
  },
  {
   "cell_type": "code",
   "execution_count": null,
   "id": "a3024a80-590a-4c82-9a42-91e429eb86d7",
   "metadata": {
    "tags": []
   },
   "outputs": [],
   "source": [
    "start_run = datetime.datetime.now()"
   ]
  },
  {
   "cell_type": "markdown",
   "id": "7ae49e73",
   "metadata": {},
   "source": [
    "# Data Cleaning"
   ]
  },
  {
   "cell_type": "code",
   "execution_count": null,
   "id": "280ec904-dfbe-4374-8eeb-6cb85353abda",
   "metadata": {
    "tags": []
   },
   "outputs": [],
   "source": [
    "file = glob.glob(\"output_data/*.jsonl.zip\")[0]\n",
    "\n",
    "df = pd.read_json(file, lines=True)\n",
    "\n",
    "# Normalize nested data to access 'model' inside 'response.body' and 'content' inside 'response.body.choices'\n",
    "df = pd.json_normalize(\n",
    "    df.to_dict(orient='records'),\n",
    "    record_path=['response', 'body', 'choices'],\n",
    "    meta=[['custom_id'], ['response', 'body', 'model']],\n",
    "    record_prefix='choices.'\n",
    ")\n",
    "\n",
    "df_final = df[['custom_id', 'response.body.model', 'choices.message.content']]\n",
    "df_final.columns = ['custom_id', 'model', 'content']  \n",
    "\n",
    "df_seed = pd.read_csv(\"input_data/age_name_edu_seed.csv\")\n",
    "df_seed['custom_id'] = 'task-' + df_seed['run_id'].astype(str)\n",
    "\n",
    "df_merged = pd.merge(df_final, df_seed, on='custom_id', how='inner')\n",
    "\n",
    "# from percentparser.py: return nan for values <0 or >100\n",
    "df_merged['query_response'] = df_merged['content'].apply(parse_percentage)\n",
    "#df_merged[['content', 'query_response']].sort_values('query_response')\n",
    "\n",
    "df = df_merged\n",
    "df.drop(columns=\"query_response_raw\", inplace=True)\n",
    "df.rename(columns={\"content\": \"query_response_raw\"}, inplace=True)\n",
    "len(df)"
   ]
  },
  {
   "cell_type": "code",
   "execution_count": null,
   "id": "22a9d1f6",
   "metadata": {},
   "outputs": [],
   "source": [
    "df.head()"
   ]
  },
  {
   "cell_type": "code",
   "execution_count": null,
   "id": "35c29869-f1eb-4c2b-aaa2-739cb6577816",
   "metadata": {},
   "outputs": [],
   "source": [
    "len(df['query_response_raw'].unique())"
   ]
  },
  {
   "cell_type": "code",
   "execution_count": null,
   "id": "7fce42f7",
   "metadata": {},
   "outputs": [],
   "source": [
    "df['query_response'].unique()"
   ]
  },
  {
   "cell_type": "code",
   "execution_count": null,
   "id": "226d4a21",
   "metadata": {},
   "outputs": [],
   "source": [
    "len(df['query_response'].unique())"
   ]
  },
  {
   "cell_type": "code",
   "execution_count": null,
   "id": "7d173afd",
   "metadata": {},
   "outputs": [],
   "source": [
    "df[df['query_response'].isna()]"
   ]
  },
  {
   "cell_type": "code",
   "execution_count": null,
   "id": "67df23c8",
   "metadata": {},
   "outputs": [],
   "source": [
    "df['gender'] = df['gender'].str.replace('None-Control', 'Gender-Neutral')\n",
    "df[df['gender'] == 'Gender-Neutral'].head()"
   ]
  },
  {
   "cell_type": "code",
   "execution_count": null,
   "id": "6ce2a763-e663-4165-8f8a-e2f123cc129f",
   "metadata": {
    "tags": []
   },
   "outputs": [],
   "source": [
    "keepcols = ['custom_id', 'model', 'name', 'gender', 'race', 'education', 'age', 'query_response_raw', 'query_response']\n",
    "df[keepcols].to_csv(\"processed_data/age_name_edu_data.csv.zip\", index=False, compression='zip')"
   ]
  },
  {
   "cell_type": "code",
   "execution_count": null,
   "id": "65822e90-6f25-48b7-b9f4-12c448673abc",
   "metadata": {
    "tags": []
   },
   "outputs": [],
   "source": [
    "print(\"Elapsed time:\", datetime.datetime.now() - start_run)"
   ]
  },
  {
   "cell_type": "code",
   "execution_count": null,
   "id": "7eedeca4-45eb-4348-ae38-5291bfa05972",
   "metadata": {},
   "outputs": [],
   "source": []
  },
  {
   "cell_type": "code",
   "execution_count": null,
   "id": "318cddf1-e758-46f3-80e9-d422f5ca340e",
   "metadata": {},
   "outputs": [],
   "source": []
  },
  {
   "cell_type": "code",
   "execution_count": null,
   "id": "7954c499-8f44-46f9-96cd-f1f31e8d71fb",
   "metadata": {},
   "outputs": [],
   "source": []
  }
 ],
 "metadata": {
  "kernelspec": {
   "display_name": "Python 3 (ipykernel)",
   "language": "python",
   "name": "python3"
  },
  "language_info": {
   "codemirror_mode": {
    "name": "ipython",
    "version": 3
   },
   "file_extension": ".py",
   "mimetype": "text/x-python",
   "name": "python",
   "nbconvert_exporter": "python",
   "pygments_lexer": "ipython3",
   "version": "3.9.12"
  }
 },
 "nbformat": 4,
 "nbformat_minor": 5
}
