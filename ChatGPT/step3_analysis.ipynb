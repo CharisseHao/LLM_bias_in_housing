{
 "cells": [
  {
   "cell_type": "code",
   "execution_count": null,
   "id": "4b790352",
   "metadata": {
    "tags": []
   },
   "outputs": [],
   "source": [
    "import sys\n",
    "sys.path.append('src/')\n",
    "from percentparser import parse_percentage\n",
    "from plot_functions import single_var_catplot, multi_var_catplot\n",
    "from stat_tests import check_normality_for_groups, check_variance_homogeneity, kruskal_wallis_test, dunns_test, detailed_dunns_test\n",
    "\n",
    "import os\n",
    "import json\n",
    "from tqdm import tqdm\n",
    "import pandas as pd\n",
    "import seaborn as sns\n",
    "import matplotlib.pyplot as plt\n",
    "import numpy as np\n",
    "import datetime\n",
    "\n",
    "\n",
    "import warnings\n",
    "warnings.filterwarnings(\"ignore\")\n",
    "\n",
    "sns.set_theme(context='notebook', style='whitegrid')\n",
    "pd.set_option(\"display.max_rows\", 100)"
   ]
  },
  {
   "cell_type": "code",
   "execution_count": null,
   "id": "a3024a80-590a-4c82-9a42-91e429eb86d7",
   "metadata": {
    "tags": []
   },
   "outputs": [],
   "source": [
    "start_run = datetime.datetime.now()"
   ]
  },
  {
   "cell_type": "markdown",
   "id": "7ae49e73",
   "metadata": {},
   "source": [
    "# Analysis"
   ]
  },
  {
   "cell_type": "code",
   "execution_count": null,
   "id": "6ce2a763-e663-4165-8f8a-e2f123cc129f",
   "metadata": {
    "tags": []
   },
   "outputs": [],
   "source": [
    "df = pd.read_csv(\"processed_data/age_name_edu_data.csv.zip\", compression='zip')"
   ]
  },
  {
   "cell_type": "code",
   "execution_count": null,
   "id": "715daa5a",
   "metadata": {},
   "outputs": [],
   "source": [
    "len(df)"
   ]
  },
  {
   "cell_type": "code",
   "execution_count": null,
   "id": "dea14487",
   "metadata": {},
   "outputs": [],
   "source": [
    "assert len(df['custom_id'].unique()) == len(df)"
   ]
  },
  {
   "cell_type": "code",
   "execution_count": null,
   "id": "27cfb971-e7ed-4950-a3dc-e089b30dbbc1",
   "metadata": {},
   "outputs": [],
   "source": [
    "model = df['model'].unique()[0]"
   ]
  },
  {
   "cell_type": "markdown",
   "id": "90f5a703-067d-495c-8db5-7647a088bcd0",
   "metadata": {},
   "source": [
    "### Response Length and Refusals"
   ]
  },
  {
   "cell_type": "code",
   "execution_count": null,
   "id": "fefa9ced-0ac5-4fb2-84eb-6f5f0a256377",
   "metadata": {},
   "outputs": [],
   "source": [
    "df['response_len'] = df['query_response_raw'].apply(len)\n",
    "print(f\"Median response length: {df['response_len'].median()}\")\n",
    "print(f\"Mean response length: {df['response_len'].mean()}\")"
   ]
  },
  {
   "cell_type": "code",
   "execution_count": null,
   "id": "7a1525dd",
   "metadata": {},
   "outputs": [],
   "source": [
    "refusals = df[df['query_response'].isna()]\n",
    "print(f\"Median refusal response length: {refusals['response_len'].median()}\")\n",
    "print(f\"Mean refusal response length: {refusals['response_len'].mean()}\")"
   ]
  },
  {
   "cell_type": "code",
   "execution_count": null,
   "id": "47cef20f",
   "metadata": {},
   "outputs": [],
   "source": [
    "refusals"
   ]
  },
  {
   "cell_type": "code",
   "execution_count": null,
   "id": "31e1a1b8",
   "metadata": {},
   "outputs": [],
   "source": [
    "print(f\"Refusal 1: \\n{refusals['query_response_raw'].iloc[0]}\\n\\n\\\n",
    "Refusal 2: \\n{refusals['query_response_raw'].iloc[1]}\")"
   ]
  },
  {
   "cell_type": "code",
   "execution_count": null,
   "id": "82206f77",
   "metadata": {},
   "outputs": [],
   "source": [
    "df_valid = df[df['query_response'].notna()]\n",
    "print(f\"Median valid response length: {df_valid['response_len'].median()}\")\n",
    "print(f\"Mean valid response length: {df_valid['response_len'].mean()}\")"
   ]
  },
  {
   "cell_type": "code",
   "execution_count": null,
   "id": "b7abf829-afff-4ce2-81b3-6a84d38cd4be",
   "metadata": {
    "tags": []
   },
   "outputs": [],
   "source": [
    "df['invalid_or_refused'] = df['query_response'].isna().astype(int)\n",
    "print(f\"Invalid responses: {df['invalid_or_refused'].mean()}\")"
   ]
  },
  {
   "cell_type": "markdown",
   "id": "6cee0fdc-0006-45f9-9447-2bbfc024cf80",
   "metadata": {},
   "source": [
    "### Response Distribution"
   ]
  },
  {
   "cell_type": "code",
   "execution_count": null,
   "id": "45a1b502",
   "metadata": {},
   "outputs": [],
   "source": [
    "df_valid['query_response'] = pd.to_numeric(df_valid['query_response'], errors='coerce')\n",
    "print(f\"Min hiring probability: {min(df_valid['query_response'])}\\nMax hiring probability: {max(df_valid['query_response'])}\")"
   ]
  },
  {
   "cell_type": "code",
   "execution_count": null,
   "id": "0fd0ff20",
   "metadata": {},
   "outputs": [],
   "source": [
    "response_value_counts = df_valid['query_response'].value_counts().to_dict()\n",
    "pd.DataFrame({'hiring_prob': response_value_counts.keys(),\n",
    "             'count': response_value_counts.values()}).sort_values(by='hiring_prob')"
   ]
  },
  {
   "cell_type": "code",
   "execution_count": null,
   "id": "8351b79d",
   "metadata": {},
   "outputs": [],
   "source": [
    "plt.bar(response_value_counts.keys(), response_value_counts.values())"
   ]
  },
  {
   "cell_type": "markdown",
   "id": "f5273767-7791-46a5-a636-9e8a45721a52",
   "metadata": {},
   "source": [
    "## Visualizations"
   ]
  },
  {
   "cell_type": "code",
   "execution_count": null,
   "id": "abaf2575",
   "metadata": {
    "scrolled": true
   },
   "outputs": [],
   "source": [
    "df_valid.groupby(['age','gender','education']).count()['query_response']"
   ]
  },
  {
   "cell_type": "code",
   "execution_count": null,
   "id": "f26a64ec-b746-485b-b5ce-ee8e7a096c35",
   "metadata": {
    "tags": []
   },
   "outputs": [],
   "source": [
    "df_valid.groupby(['age'])['query_response'].agg(['min', 'median', 'max', 'mean', 'std'])"
   ]
  },
  {
   "cell_type": "code",
   "execution_count": null,
   "id": "506c9102-5283-4de7-bfe1-34b9002455e4",
   "metadata": {
    "tags": []
   },
   "outputs": [],
   "source": [
    "df_valid.groupby(['gender'])['query_response'].agg(['min', 'median', 'max', 'mean', 'std'])"
   ]
  },
  {
   "cell_type": "code",
   "execution_count": null,
   "id": "921085f2",
   "metadata": {},
   "outputs": [],
   "source": [
    "df_valid.groupby(['education'])['query_response'].agg(['min', 'median', 'max', 'mean', 'std'])"
   ]
  },
  {
   "cell_type": "markdown",
   "id": "c460f41c-ca24-4383-8fa8-fe2201042447",
   "metadata": {},
   "source": [
    "### Single Variable Plots"
   ]
  },
  {
   "cell_type": "code",
   "execution_count": null,
   "id": "7c60e92a-1d22-4bbd-8e97-00d2ac7c2294",
   "metadata": {},
   "outputs": [],
   "source": [
    "df_valid['age'] = df_valid['age'].astype(str)\n",
    "plot = single_var_catplot(df_valid, 'age', model)"
   ]
  },
  {
   "cell_type": "code",
   "execution_count": null,
   "id": "26f13fb5-72ab-4a97-9dbe-6281e200db45",
   "metadata": {},
   "outputs": [],
   "source": [
    "gender_stats_diff = df_valid.groupby(['gender'])['query_response'].agg(['mean', 'median'])\n",
    "gender_stats_diff"
   ]
  },
  {
   "cell_type": "code",
   "execution_count": null,
   "id": "7bbffe16",
   "metadata": {},
   "outputs": [],
   "source": [
    "# Calculate the difference between Man and Woman for both mean and median values\n",
    "gender_mean_gap = gender_stats_diff.unstack()['mean', 'Man'] - gender_stats_diff.unstack()['mean', 'Woman']\n",
    "\n",
    "print(f\"Mean gender gap (male vs female): {gender_mean_gap}\")"
   ]
  },
  {
   "cell_type": "code",
   "execution_count": null,
   "id": "ff7aa333-98f3-493c-904b-2d9c1e443324",
   "metadata": {},
   "outputs": [],
   "source": [
    "single_var_catplot(df_valid, 'gender', model)"
   ]
  },
  {
   "cell_type": "code",
   "execution_count": null,
   "id": "c8201f8c-6064-4ff8-9ca7-e6b8bb02d3d8",
   "metadata": {},
   "outputs": [],
   "source": [
    "single_var_catplot(df_valid, 'education', model)"
   ]
  },
  {
   "cell_type": "markdown",
   "id": "082b5e79-78cb-4640-80ec-81130bea0a69",
   "metadata": {},
   "source": [
    "### Multi Variable Plots"
   ]
  },
  {
   "cell_type": "code",
   "execution_count": null,
   "id": "c011fb13-3753-4130-af51-b2c03e606d5c",
   "metadata": {},
   "outputs": [],
   "source": [
    "categories = ['age', 'gender', 'education']\n",
    "for var1 in categories:\n",
    "    for var2 in categories:\n",
    "        if var1 != var2:\n",
    "            multi_var_catplot(df_valid, var1, var2, model)"
   ]
  },
  {
   "cell_type": "code",
   "execution_count": null,
   "id": "1cdd1483-24b6-4c34-969e-bcd9a63eee47",
   "metadata": {},
   "outputs": [],
   "source": [
    "heatmap_data = df_valid.pivot_table(index='education', columns='age', values='query_response', aggfunc='mean')\n",
    "\n",
    "sns.heatmap(heatmap_data, cmap='plasma', annot=True, fmt='.1f', cbar_kws={'label': 'Query Response'})"
   ]
  },
  {
   "cell_type": "markdown",
   "id": "4217fb34-cf7e-40e2-a077-ad848f2d2fb9",
   "metadata": {},
   "source": [
    "## Tests"
   ]
  },
  {
   "cell_type": "markdown",
   "id": "b3c2027e-fa61-46a1-8acc-b7c85bd77b13",
   "metadata": {},
   "source": [
    "### Assumption Checks (for ANOVA and t-tests)"
   ]
  },
  {
   "cell_type": "code",
   "execution_count": null,
   "id": "1c5cd88c-b72e-4e27-b565-af3e3923920e",
   "metadata": {},
   "outputs": [],
   "source": [
    "check_normality_for_groups(df_valid, 'query_response', df_valid['age'])\n",
    "check_variance_homogeneity(df_valid, 'query_response', df_valid['age'])"
   ]
  },
  {
   "cell_type": "code",
   "execution_count": null,
   "id": "509ab7e8-6dbe-44c9-9b61-66b2fd3a22dc",
   "metadata": {},
   "outputs": [],
   "source": [
    "check_normality_for_groups(df_valid, 'query_response', df_valid['gender'])\n",
    "check_variance_homogeneity(df_valid, 'query_response', df_valid['gender'])"
   ]
  },
  {
   "cell_type": "code",
   "execution_count": null,
   "id": "ec590f55-aae1-4558-9664-e54c523b378c",
   "metadata": {},
   "outputs": [],
   "source": [
    "check_normality_for_groups(df_valid, 'query_response', df_valid['education'])\n",
    "check_variance_homogeneity(df_valid, 'query_response', df_valid['education'])"
   ]
  },
  {
   "cell_type": "markdown",
   "id": "144d7cb4-3a03-4f6a-9838-52641badd843",
   "metadata": {},
   "source": [
    "### Kruskal–Wallis Test"
   ]
  },
  {
   "cell_type": "code",
   "execution_count": null,
   "id": "51583043-214f-4cec-93b9-c7fe8c3871e8",
   "metadata": {},
   "outputs": [],
   "source": [
    "kruskal_wallis_test(df_valid, 'query_response', 'age')"
   ]
  },
  {
   "cell_type": "code",
   "execution_count": null,
   "id": "37d7f830-445c-4836-8af7-a09e85b38e7a",
   "metadata": {},
   "outputs": [],
   "source": [
    "kruskal_wallis_test(df_valid, 'query_response', 'gender')"
   ]
  },
  {
   "cell_type": "code",
   "execution_count": null,
   "id": "fd5af69d-b127-4554-8eed-ad413f0dd68f",
   "metadata": {},
   "outputs": [],
   "source": [
    "kruskal_wallis_test(df_valid, 'query_response', 'education')"
   ]
  },
  {
   "cell_type": "markdown",
   "id": "536c505f-c917-45a7-bb74-b09b9dfffb9e",
   "metadata": {},
   "source": [
    "## Dunn's Test"
   ]
  },
  {
   "cell_type": "code",
   "execution_count": null,
   "id": "cd276450-9699-46e6-839f-efec8fbb94ef",
   "metadata": {},
   "outputs": [],
   "source": [
    "dunns_test(df_valid, 'query_response', 'age')"
   ]
  },
  {
   "cell_type": "code",
   "execution_count": null,
   "id": "d28dbf81-9020-40bd-a09a-5645f8a96fd6",
   "metadata": {},
   "outputs": [],
   "source": [
    "detailed_dunns_test(df_valid, 'query_response', 'age', total_comparisons=110)"
   ]
  },
  {
   "cell_type": "code",
   "execution_count": null,
   "id": "e5bad2e3-7e47-43e7-ad2c-7d3fa7c96278",
   "metadata": {},
   "outputs": [],
   "source": [
    "detailed_dunns_test(df_valid, 'query_response', 'gender', total_comparisons=110)"
   ]
  },
  {
   "cell_type": "code",
   "execution_count": null,
   "id": "53e09db3-2083-46d8-bf30-88e08c235c81",
   "metadata": {},
   "outputs": [],
   "source": [
    "detailed_dunns_test(df_valid, 'query_response', 'education', total_comparisons=110)"
   ]
  },
  {
   "cell_type": "code",
   "execution_count": null,
   "id": "ebc4d65d-b817-4647-91b0-4ff7a650c78b",
   "metadata": {},
   "outputs": [],
   "source": [
    "age_edu_dunns = []\n",
    "for i in df_valid['age'].unique():\n",
    "    df_edu = df[df['age'] == i]\n",
    "    curr_df = detailed_dunns_test(df_edu, 'query_response', 'education', total_comparisons=110)\n",
    "    curr_df['age'] = i\n",
    "    curr_df = curr_df.groupby(['age', 'education1', 'education2']).mean()\n",
    "    age_edu_dunns.append(curr_df)\n",
    "age_edu_dunns_results = pd.concat(age_edu_dunns)\n",
    "age_edu_dunns_results['reject_p05'] = age_edu_dunns_results['reject_p05'].astype(bool)\n",
    "age_edu_dunns_results['reject_p0005'] = age_edu_dunns_results['reject_p0005'].astype(bool)\n",
    "\n",
    "age_edu_dunns_results"
   ]
  },
  {
   "cell_type": "code",
   "execution_count": null,
   "id": "65822e90-6f25-48b7-b9f4-12c448673abc",
   "metadata": {
    "tags": []
   },
   "outputs": [],
   "source": [
    "print(\"Elapsed time:\", datetime.datetime.now() - start_run)"
   ]
  },
  {
   "cell_type": "code",
   "execution_count": null,
   "id": "7eedeca4-45eb-4348-ae38-5291bfa05972",
   "metadata": {},
   "outputs": [],
   "source": []
  },
  {
   "cell_type": "code",
   "execution_count": null,
   "id": "318cddf1-e758-46f3-80e9-d422f5ca340e",
   "metadata": {},
   "outputs": [],
   "source": []
  }
 ],
 "metadata": {
  "kernelspec": {
   "display_name": "Python 3 (ipykernel)",
   "language": "python",
   "name": "python3"
  },
  "language_info": {
   "codemirror_mode": {
    "name": "ipython",
    "version": 3
   },
   "file_extension": ".py",
   "mimetype": "text/x-python",
   "name": "python",
   "nbconvert_exporter": "python",
   "pygments_lexer": "ipython3",
   "version": "3.9.12"
  }
 },
 "nbformat": 4,
 "nbformat_minor": 5
}
