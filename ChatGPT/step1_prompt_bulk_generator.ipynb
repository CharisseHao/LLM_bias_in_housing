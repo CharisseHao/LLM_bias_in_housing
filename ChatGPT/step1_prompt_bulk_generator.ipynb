{
 "cells": [
  {
   "cell_type": "markdown",
   "id": "cde94515",
   "metadata": {},
   "source": [
    "# Step 1: Prompt generator"
   ]
  },
  {
   "cell_type": "markdown",
   "id": "66679c99",
   "metadata": {},
   "source": [
    "Create JSONL files for all permutations of all conditions, to be submitted via the OpenAI Batch API. Due to 50,000 max prompts/queries per file, it generates 8 versions\n",
    "\n",
    "Depends on: `input_data/audit_names.csv`\n",
    "\n",
    "Outputs: \n",
    "- 1 JSONL file to submit to OpenAI Batch API: `input_data/age_name_edu_{model_version}.jsonl`\n",
    "- 1 CSV used to track which task_id corresponds to each prompt: `input_data/age_name_edu_seed.csv`"
   ]
  },
  {
   "cell_type": "code",
   "execution_count": null,
   "id": "4b790352",
   "metadata": {
    "tags": []
   },
   "outputs": [],
   "source": [
    "import sys\n",
    "import os\n",
    "import json\n",
    "from tqdm import tqdm\n",
    "import pandas as pd\n",
    "import numpy as np\n",
    "import logging\n",
    "pd.set_option('display.max_rows', 500)"
   ]
  },
  {
   "cell_type": "code",
   "execution_count": null,
   "id": "319b9449-8bf6-4c35-8290-bcc039664382",
   "metadata": {
    "tags": []
   },
   "outputs": [],
   "source": [
    "param_one = []"
   ]
  },
  {
   "cell_type": "code",
   "execution_count": null,
   "id": "09f708ee-5cfb-4aaf-be1d-09bbd67fd284",
   "metadata": {
    "tags": []
   },
   "outputs": [],
   "source": [
    "len(param_one)"
   ]
  },
  {
   "cell_type": "code",
   "execution_count": null,
   "id": "214ec1b2",
   "metadata": {},
   "outputs": [],
   "source": [
    "param_two = []\n",
    "len(param_two)"
   ]
  },
  {
   "cell_type": "code",
   "execution_count": null,
   "id": "fd0330c4-a8d7-46e7-9a4d-32078a2e5559",
   "metadata": {
    "tags": []
   },
   "outputs": [],
   "source": [
    "models = ['gpt-4o-mini-2024-07-18']\n",
    "          \n",
    "with open(\"models.json\", \"w\") as file:\n",
    "    json.dump(models, file)"
   ]
  },
  {
   "cell_type": "code",
   "execution_count": null,
   "id": "ff38c354-2886-4b82-9f08-98515f807740",
   "metadata": {
    "tags": []
   },
   "outputs": [],
   "source": [
    "def read_applicants(names_fn=\"input_data/audit_names.xlsx\"):\n",
    "    \"\"\"Reads applicant data from the Excel file, matching first and last names by race.\"\"\"\n",
    "    try:\n",
    "        # Load first and last names from the Excel file\n",
    "        df_first = pd.read_excel(names_fn, sheet_name=\"first name\").fillna(\" \")\n",
    "        df_last = pd.read_excel(names_fn, sheet_name=\"last name\").fillna(\" \")\n",
    "        \n",
    "        # Group first and last names by race\n",
    "        first_names_by_race = df_first.groupby('Race')\n",
    "        last_names_by_race = df_last.groupby('Race')\n",
    "        \n",
    "        # Combine first and last names only within the same race\n",
    "        applicants = []\n",
    "        for race in first_names_by_race.groups:\n",
    "            first_names = first_names_by_race.get_group(race)\n",
    "            last_names = last_names_by_race.get_group(race)\n",
    "            \n",
    "            for _, first_row in first_names.iterrows():\n",
    "                for _, last_row in last_names.iterrows():\n",
    "                    full_name = f\"{first_row['First Name']} {last_row['Last name']}\"\n",
    "                    applicant = {\n",
    "                        'Full Name': full_name,\n",
    "                        'Gender': first_row['Gender'],\n",
    "                        'Race': last_row['Race'], \n",
    "                    }\n",
    "                    applicants.append(applicant)\n",
    "        return applicants\n",
    "    except Exception as e:\n",
    "        logging.error(f\"Error reading names from audit_names.xlsx: {e}\")\n",
    "        sys.exit(1)"
   ]
  },
  {
   "cell_type": "code",
   "execution_count": null,
   "id": "8c4dd802-5850-4d06-bc3f-c7d7a45cb839",
   "metadata": {
    "scrolled": true,
    "tags": []
   },
   "outputs": [],
   "source": [
    "names_list = read_applicants()\n",
    "names_list"
   ]
  },
  {
   "cell_type": "code",
   "execution_count": null,
   "id": "e3200711",
   "metadata": {},
   "outputs": [],
   "source": [
    "len(names_list)"
   ]
  },
  {
   "cell_type": "code",
   "execution_count": null,
   "id": "9f786ca2-c1fc-40a6-b329-521e5d7a2c47",
   "metadata": {
    "tags": []
   },
   "outputs": [],
   "source": [
    "row_list = []\n",
    "run_id = 0\n",
    "\n",
    "# 3 copies of each prompt for each age x name x education combination\n",
    "for name in names_list:\n",
    "    for x in param_one:\n",
    "        for y in param_two:\n",
    "             for i in range(0,3):\n",
    "                row_list.append({'run_id':run_id,\n",
    "                                 'name':name['Full Name'],\n",
    "                                 'gender':name['Gender'],\n",
    "                                 'race':name['Race'],\n",
    "                                 'param_one':x,\n",
    "                                 'param_two': y,\n",
    "                                 'query_response_raw':np.nan,\n",
    "                                 'query_response':np.nan})\n",
    "                run_id += 1"
   ]
  },
  {
   "cell_type": "code",
   "execution_count": null,
   "id": "d36aeb53-ee2c-4416-8ee3-e7301e5cadfa",
   "metadata": {
    "tags": []
   },
   "outputs": [],
   "source": [
    "df = pd.DataFrame(row_list)\n",
    "df"
   ]
  },
  {
   "cell_type": "code",
   "execution_count": null,
   "id": "0ea0e052-9a63-424f-a795-138766d83809",
   "metadata": {
    "scrolled": true,
    "tags": []
   },
   "outputs": [],
   "source": [
    "df.groupby(['gender','param_one','param_two']).count()[['run_id']]"
   ]
  },
  {
   "cell_type": "code",
   "execution_count": null,
   "id": "07201782",
   "metadata": {},
   "outputs": [],
   "source": [
    "df.groupby('gender')[['run_id','param_one','param_two']].nunique()"
   ]
  },
  {
   "cell_type": "code",
   "execution_count": null,
   "id": "e7f5f513-4cb7-4395-ac54-5144c3d5a083",
   "metadata": {
    "tags": []
   },
   "outputs": [],
   "source": [
    "df.to_csv('input_data/age_name_edu_seed.csv', index=False)"
   ]
  },
  {
   "cell_type": "markdown",
   "id": "0024716a",
   "metadata": {},
   "source": [
    "## Generate prompts"
   ]
  },
  {
   "cell_type": "code",
   "execution_count": null,
   "id": "6d1ec404-82bb-49b1-bf80-9a06d4773915",
   "metadata": {
    "tags": []
   },
   "outputs": [],
   "source": [
    "df = pd.read_csv('input_data/age_name_edu_seed.csv')\n",
    "df"
   ]
  },
  {
   "cell_type": "code",
   "execution_count": null,
   "id": "63b4f071",
   "metadata": {
    "tags": []
   },
   "outputs": [],
   "source": [
    "def generate_sentence_employer(age, name, education):\n",
    "    \n",
    "#     age = f\" who is {age}\" if age != \"None-Control\" else \"\"\n",
    "    \n",
    "#     education = f\"\"\"\n",
    "#     Education \n",
    "#     {education}\n",
    "#     \"\"\" if education != \"None-Control\" else \"\"\n",
    "    \n",
    "#     name = name if name != \"None-Control\" else \"\"\n",
    "\n",
    "    return f\"\"\"\n",
    "    PROMPT HERE\n",
    "    \"\"\""
   ]
  },
  {
   "cell_type": "code",
   "execution_count": null,
   "id": "1b874699",
   "metadata": {},
   "outputs": [],
   "source": [
    "print(generate_sentence_employer())"
   ]
  },
  {
   "cell_type": "code",
   "execution_count": null,
   "id": "04f9fc57",
   "metadata": {
    "scrolled": true
   },
   "outputs": [],
   "source": [
    "# Check control prompt format\n",
    "for i in ['16', 'None-Control']:\n",
    "    for j in ['Charlie Andersen', 'None-Control']:\n",
    "        for k in ['Some high school (did not complete)', 'None-Control']:\n",
    "            if i == 'None-Control' or j == 'None-Control' or k == 'None-Control':\n",
    "                print(f'{i}; {j}; {k}')\n",
    "                print(generate_sentence_employer(i, j, k))\n",
    "                print('---------------------')"
   ]
  },
  {
   "cell_type": "code",
   "execution_count": null,
   "id": "e31d1da6-c94b-443a-bb0d-f221a51ab7bc",
   "metadata": {
    "tags": []
   },
   "outputs": [],
   "source": [
    "for version in models:\n",
    "    print(version)\n",
    "    tasks = []\n",
    "    for index, row in df.iterrows():\n",
    "\n",
    "        task = {\n",
    "            \"custom_id\": f\"task-{row['run_id']}\",\n",
    "            \"method\": \"POST\",\n",
    "            \"url\": \"/v1/chat/completions\",\n",
    "            \"body\": {\n",
    "                # This is what you would have in your Chat Completions API call\n",
    "                \"model\": f\"{version}\",\n",
    "                \"messages\": [\n",
    "                    {\n",
    "                        \"role\": \"user\",\n",
    "                        \"content\": generate_sentence_employer(row['age'], row['name'], row['education'])\n",
    "                    }\n",
    "                ],\n",
    "            }\n",
    "        }\n",
    "\n",
    "        tasks.append(task)\n",
    "    version = version.split('/')[-1]\n",
    "    file_name = f\"input_data/batch_requests/age_name_edu_{version}.jsonl\"\n",
    "    file_name = file_name\n",
    "    \n",
    "    with open(file_name, 'w') as file:\n",
    "        for obj in tasks:\n",
    "            file.write(json.dumps(obj) + '\\n')"
   ]
  },
  {
   "cell_type": "code",
   "execution_count": null,
   "id": "e1b585fd-55a3-47d1-a076-b47fc0ea1e4b",
   "metadata": {},
   "outputs": [],
   "source": [
    "!head -n 1 input_data/batch_requests/*.jsonl"
   ]
  },
  {
   "cell_type": "raw",
   "id": "b5c1cab9",
   "metadata": {
    "tags": []
   },
   "source": [
    "!tail -n 1 input_data/age_name_edu_*.jsonl"
   ]
  },
  {
   "cell_type": "code",
   "execution_count": null,
   "id": "1bb1d484",
   "metadata": {},
   "outputs": [],
   "source": [
    "import zipfile\n",
    "\n",
    "# Path to the input JSONL file\n",
    "input_file = 'input_data/batch_requests/age_name_edu_gpt-4o-mini-2024-07-18.jsonl'\n",
    "\n",
    "# Path to the output ZIP file\n",
    "output_file = 'input_data/batch_requests/age_name_edu_gpt-4o-mini-2024-07-18.zip'\n",
    "\n",
    "# Compress the file into a ZIP archive\n",
    "with zipfile.ZipFile(output_file, 'w', zipfile.ZIP_DEFLATED) as zipf:\n",
    "    zipf.write(input_file, arcname='data.jsonl')\n",
    "\n",
    "print(f\"File {input_file} has been compressed to {output_file}.\")\n"
   ]
  },
  {
   "cell_type": "code",
   "execution_count": null,
   "id": "5a5c0065",
   "metadata": {},
   "outputs": [],
   "source": []
  }
 ],
 "metadata": {
  "kernelspec": {
   "display_name": "Python 3 (ipykernel)",
   "language": "python",
   "name": "python3"
  },
  "language_info": {
   "codemirror_mode": {
    "name": "ipython",
    "version": 3
   },
   "file_extension": ".py",
   "mimetype": "text/x-python",
   "name": "python",
   "nbconvert_exporter": "python",
   "pygments_lexer": "ipython3",
   "version": "3.9.12"
  }
 },
 "nbformat": 4,
 "nbformat_minor": 5
}
