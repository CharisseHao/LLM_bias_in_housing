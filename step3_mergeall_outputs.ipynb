{
 "cells": [
  {
   "cell_type": "markdown",
   "id": "cde94515",
   "metadata": {},
   "source": [
    "# Mergeall\n"
   ]
  },
  {
   "cell_type": "code",
   "execution_count": 1,
   "id": "4b790352",
   "metadata": {
    "tags": []
   },
   "outputs": [],
   "source": [
    "import sys\n",
    "import os\n",
    "import json\n",
    "from tqdm import tqdm\n",
    "import pandas as pd\n",
    "import seaborn as sns\n",
    "import glob\n",
    "import matplotlib.pyplot as plt\n",
    "import numpy as np\n",
    "import datetime\n",
    "\n",
    "import warnings\n",
    "warnings.filterwarnings(\"ignore\")\n",
    "\n",
    "sns.set_theme(context='notebook', style='whitegrid')\n",
    "pd.set_option(\"display.max_rows\", 100)"
   ]
  },
  {
   "cell_type": "code",
   "execution_count": 2,
   "id": "a3024a80-590a-4c82-9a42-91e429eb86d7",
   "metadata": {
    "tags": []
   },
   "outputs": [
    {
     "data": {
      "text/plain": [
       "'housing_prompt_v1'"
      ]
     },
     "execution_count": 2,
     "metadata": {},
     "output_type": "execute_result"
    }
   ],
   "source": [
    "start_run = datetime.datetime.now()\n",
    "\n",
    "with open(\"prefix.txt\", \"r\") as f:\n",
    "    prefix = f.read()\n",
    "prefix"
   ]
  },
  {
   "cell_type": "code",
   "execution_count": null,
   "id": "11cb28ef-be9e-40cf-9f20-5151dd1d4893",
   "metadata": {},
   "outputs": [],
   "source": [
    "# ZIP large data files, so they can be pushed to GitHub -- convert to code cell to run\n",
    "!find . -type f -name \"*.jsonl\" ! -name \"*.jsonl.zip\" -exec sh -c 'zip \"{}.zip\" \"{}\"' \\;\n",
    "!find . -type f -name \"*.log\" ! -name \"*.log.zip\" -exec sh -c 'zip \"{}.zip\" \"{}\"' \\;"
   ]
  },
  {
   "cell_type": "markdown",
   "id": "7ae49e73",
   "metadata": {},
   "source": [
    "# Data Cleaning"
   ]
  },
  {
   "cell_type": "code",
   "execution_count": null,
   "id": "455e4e28-7334-4f3c-9d0c-dd31d3407605",
   "metadata": {
    "tags": []
   },
   "outputs": [],
   "source": [
    "fns = glob.glob(f\"input_data/batch_results/{prefix}*.jsonl\")\n",
    "fns.sort()\n",
    "print(fns, len(fns))"
   ]
  },
  {
   "cell_type": "code",
   "execution_count": null,
   "id": "2ccd6649-3b21-4a98-892b-ed023eabfe90",
   "metadata": {},
   "outputs": [],
   "source": [
    "dfs = []\n",
    "for file in tqdm(fns):\n",
    "    print(file)\n",
    "    df = pd.read_json(file, lines=True, encoding_errors='replace')\n",
    "    \n",
    "    # Check if the file is in 'claude' format based on the presence of 'result' in columns\n",
    "    if 'claude' in file or any(df.columns.str.contains('result')):\n",
    "        # Use json_normalize for 'claude' format\n",
    "        df = pd.json_normalize(\n",
    "            df.to_dict(orient='records'),\n",
    "            record_path=['result', 'message', 'content'],\n",
    "            meta=['custom_id', ['result', 'message', 'model']],\n",
    "            record_prefix='content.'\n",
    "        )\n",
    "        df = df[['custom_id', 'result.message.model', 'content.text']]\n",
    "        df.columns = ['custom_id', 'model', 'content']\n",
    "    else:\n",
    "        # Standard format parsing\n",
    "        df = pd.json_normalize(\n",
    "            df.to_dict(orient='records'),\n",
    "            record_path=['response', 'body', 'choices'],\n",
    "            meta=[['custom_id'], ['response', 'body', 'model']],\n",
    "            record_prefix='choices.'\n",
    "        )\n",
    "        df = df[['custom_id', 'response.body.model', 'choices.message.content']]\n",
    "        df.columns = ['custom_id', 'model', 'content']\n",
    "    \n",
    "    # Load the seed file and merge with parsed data\n",
    "    df_seed = pd.read_csv(f\"input_data/{prefix}.csv\")\n",
    "    df_seed['custom_id'] = 'task-' + df_seed['run_id'].astype(str)\n",
    "    df_merged = pd.merge(df, df_seed, on='custom_id', how='inner')\n",
    "    \n",
    "    # Process content for dollar amounts\n",
    "    #df_merged['query_response'] = df_merged['content'].apply(parse_dollar_amount)\n",
    "    #df_merged[['content', 'query_response']].sort_values('query_response')\n",
    "    \n",
    "    dfs.append(df_merged)\n",
    "\n",
    "df_all = pd.concat(dfs)\n"
   ]
  },
  {
   "cell_type": "code",
   "execution_count": null,
   "id": "1f92aa76-078f-456b-a342-8b07a8f74b09",
   "metadata": {},
   "outputs": [],
   "source": [
    "df_all.sort_values(by=['model','run_id'], inplace=True)\n",
    "df_all"
   ]
  },
  {
   "cell_type": "code",
   "execution_count": null,
   "id": "43a5172c-28ca-4669-8c0f-02ba9906da1b",
   "metadata": {},
   "outputs": [],
   "source": [
    "df_all['gender'] = df_all['gender'].str.replace('None-Control', 'Gender-Neutral')\n",
    "df_all['gender'].value_counts()"
   ]
  },
  {
   "cell_type": "code",
   "execution_count": null,
   "id": "3aab9516-218e-4bb0-bd6a-58225ec92bf4",
   "metadata": {},
   "outputs": [],
   "source": [
    "len(df_all['model'].unique())"
   ]
  },
  {
   "cell_type": "code",
   "execution_count": null,
   "id": "8d403ba7-951d-4a4f-a727-c77962928d57",
   "metadata": {
    "tags": []
   },
   "outputs": [],
   "source": [
    "len(df_all['custom_id'].unique())"
   ]
  },
  {
   "cell_type": "code",
   "execution_count": null,
   "id": "30525151-c309-44f5-8cab-e092ca499b46",
   "metadata": {
    "tags": []
   },
   "outputs": [],
   "source": [
    "len(df_all)"
   ]
  },
  {
   "cell_type": "code",
   "execution_count": null,
   "id": "5b8d7a64-2ada-457b-91ca-90b9f317f03e",
   "metadata": {},
   "outputs": [],
   "source": [
    "assert len(df_all)/len(df_all['custom_id'].unique()) == len(df_all['model'].unique())"
   ]
  },
  {
   "cell_type": "code",
   "execution_count": null,
   "id": "6ca3b799-16c3-474d-9b17-f4bbe05eee74",
   "metadata": {},
   "outputs": [],
   "source": [
    "def prefix_models(text):\n",
    "    if 'gpt-' in text:\n",
    "        return \"OpenAI/\" + text\n",
    "    elif 'claude-' in text:\n",
    "        return 'Anthropic/' + text\n",
    "    else:\n",
    "        return text"
   ]
  },
  {
   "cell_type": "code",
   "execution_count": null,
   "id": "c59fa7cc-b691-4259-9f6d-55bbb4a82a6f",
   "metadata": {},
   "outputs": [],
   "source": [
    "df_all['model'] = df_all['model'].apply(prefix_models)\n",
    "df_all['model'].value_counts()"
   ]
  },
  {
   "cell_type": "code",
   "execution_count": null,
   "id": "42b2ab23-eae4-4659-ba98-3554fac322e2",
   "metadata": {},
   "outputs": [],
   "source": [
    "df_all.groupby(['model','gender'])['model'].count()"
   ]
  },
  {
   "cell_type": "code",
   "execution_count": null,
   "id": "1c5fdf34-28aa-4f5b-85c4-42b1580989af",
   "metadata": {},
   "outputs": [],
   "source": [
    "import re\n",
    "def parse_dollar_strict(text, min_expected=2000, max_expected=20000, min_valid=2000, max_valid=200000):\n",
    "    try:\n",
    "        # Updated regex to match dollar amounts with digits and commas, regardless of grouping\n",
    "       # matches = re.findall(r'\\$\\d+(?:,\\d+)*', text)\n",
    "        matches = re.findall(r'\\$?\\d+(?:,\\d+)*', text)\n",
    "        if matches:\n",
    "            # Remove dollar signs and commas, then convert to integer\n",
    "            values = [np.int64(match.replace('$', '').replace(',', '')) for match in matches]\n",
    "            # Filter values within the expected range\n",
    "            values_in_range = [value for value in values if min_expected <= value <= max_expected]\n",
    "            \n",
    "            if values_in_range:\n",
    "                # Discard values less than half of the highest value\n",
    "                max_value = max(values_in_range)\n",
    "                values_in_range = [value for value in values_in_range if value >= max_value / 2]\n",
    "                result = max(values_in_range)\n",
    "            else:\n",
    "                result = max(values)  # Fallback to max of all extracted values if none are in the expected range\n",
    "        else:\n",
    "            return \"REFUSED\"\n",
    "\n",
    "        # Validate the result\n",
    "        if result >= min_valid and result <= max_valid:\n",
    "            return result\n",
    "        elif result < min_valid:\n",
    "            return \"INVALID_UNDER_MIN\"\n",
    "        else:\n",
    "            return \"INVALID_OVER_MAX\"\n",
    "\n",
    "    except OverflowError:\n",
    "        print(f\"OverflowError: Value too large to process in text: {text}\")\n",
    "        return np.nan\n",
    "    except ValueError:\n",
    "        print(f\"ValueError: Could not convert text to an integer in text: {text}\")\n",
    "        return np.nan\n",
    "    except Exception as e:\n",
    "        print(f\"Unexpected error {e} occurred in text: {text}\")\n",
    "        return np.nan"
   ]
  },
  {
   "cell_type": "code",
   "execution_count": null,
   "id": "1b66ef2c-b561-4a5b-b5d2-ee65a2389887",
   "metadata": {},
   "outputs": [],
   "source": [
    "df_all['query_response_parsed'] = df_all['content'].apply(parse_dollar_strict)"
   ]
  },
  {
   "cell_type": "code",
   "execution_count": null,
   "id": "a4776942-2616-42ff-be7e-e70355c0101a",
   "metadata": {},
   "outputs": [],
   "source": [
    "df_all['query_response_numeric'] = pd.to_numeric(df_all['query_response_parsed'], errors='coerce')"
   ]
  },
  {
   "cell_type": "code",
   "execution_count": null,
   "id": "b3d20b9c-d519-41d5-800e-424515021003",
   "metadata": {},
   "outputs": [],
   "source": [
    "#for val in df_all.query(\"query_response_numeric == 1\")[['model','content','query_response_numeric']].values:\n",
    "#    print(val)"
   ]
  },
  {
   "cell_type": "code",
   "execution_count": null,
   "id": "3528a3a8-87e1-4152-8e5e-11256de35e05",
   "metadata": {},
   "outputs": [],
   "source": [
    "df_all['query_response_parsed'].value_counts()"
   ]
  },
  {
   "cell_type": "code",
   "execution_count": null,
   "id": "0a3ecd8f-695f-4b86-bc4d-2fadacbb6e4c",
   "metadata": {},
   "outputs": [],
   "source": [
    "df_all['query_response_raw_len'] = df_all['content'].apply(len)\n",
    "df_all['refused'] = df_all['query_response_numeric'].isna().astype(int)\n",
    "df_all['refused'].value_counts()"
   ]
  },
  {
   "cell_type": "code",
   "execution_count": null,
   "id": "a79fe076-e16e-4a75-abe5-f446f85b4027",
   "metadata": {},
   "outputs": [],
   "source": []
  },
  {
   "cell_type": "code",
   "execution_count": null,
   "id": "5aa92a09-29bf-4ec1-93d7-d68ddc9092a5",
   "metadata": {},
   "outputs": [],
   "source": [
    "df_all['query_response_raw_len'].hist(bins=100)"
   ]
  },
  {
   "cell_type": "code",
   "execution_count": null,
   "id": "163cdfa8-c256-4fa3-af7c-10fcd1588c3c",
   "metadata": {},
   "outputs": [],
   "source": [
    "import seaborn as sns\n",
    "models = df_all['model'].unique()\n",
    "for model in models:\n",
    "    df_temp = df_all[df_all['model'] == model]\n",
    "    g = sns.catplot(\n",
    "        data=df_temp,\n",
    "        hue='gender',\n",
    "        y='query_response_numeric',\n",
    "        x=\"race\",\n",
    "        showfliers=False,\n",
    "        palette=sns.color_palette(\"Set2\"),\n",
    "        kind=\"boxen\",\n",
    "        aspect=2.5,\n",
    "        height=4,\n",
    "        orient=\"v\",\n",
    "        line_kws=dict(linewidth=2, color=\"#ff1439\", alpha=1),\n",
    "        legend=True,\n",
    "    )\n",
    "    plt.suptitle(model)\n",
    "    plt.show()"
   ]
  },
  {
   "cell_type": "code",
   "execution_count": null,
   "id": "b4776c59-3140-4866-ad80-8a9acfbd921f",
   "metadata": {},
   "outputs": [],
   "source": [
    "df_all['query_response_raw'] = df_all['content']"
   ]
  },
  {
   "cell_type": "code",
   "execution_count": null,
   "id": "de5436b8-07f4-4fcd-800b-082f52a5662d",
   "metadata": {},
   "outputs": [],
   "source": [
    "!mkdir -p processed_data"
   ]
  },
  {
   "cell_type": "code",
   "execution_count": null,
   "id": "d43dfc43-50aa-402b-a119-169c26031dc5",
   "metadata": {
    "tags": []
   },
   "outputs": [],
   "source": [
    "df_all[['custom_id', 'model', 'name', 'gender', 'race', 'years', 'query_response_raw', 'query_response_parsed','query_response_numeric', 'query_response_raw_len']].to_csv(f\"processed_data/{prefix}_allmodels.csv.zip\", index=False)"
   ]
  },
  {
   "cell_type": "code",
   "execution_count": null,
   "id": "b8aeae71-f22c-406b-8e7d-f8767a340417",
   "metadata": {
    "tags": []
   },
   "outputs": [],
   "source": [
    "print(\"Elapsed time:\", datetime.datetime.now() - start_run)"
   ]
  },
  {
   "cell_type": "code",
   "execution_count": null,
   "id": "dfb667cd-8b79-4f2a-8502-3e8d5efe2632",
   "metadata": {},
   "outputs": [],
   "source": []
  },
  {
   "cell_type": "code",
   "execution_count": null,
   "id": "013c9d71-d19f-468c-a27a-d0b5c4f0242c",
   "metadata": {},
   "outputs": [],
   "source": []
  }
 ],
 "metadata": {
  "kernelspec": {
   "display_name": "Python 3 (ipykernel)",
   "language": "python",
   "name": "python3"
  },
  "language_info": {
   "codemirror_mode": {
    "name": "ipython",
    "version": 3
   },
   "file_extension": ".py",
   "mimetype": "text/x-python",
   "name": "python",
   "nbconvert_exporter": "python",
   "pygments_lexer": "ipython3",
   "version": "3.9.12"
  }
 },
 "nbformat": 4,
 "nbformat_minor": 5
}
