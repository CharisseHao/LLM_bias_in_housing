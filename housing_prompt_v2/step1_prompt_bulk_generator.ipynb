{
 "cells": [
  {
   "cell_type": "markdown",
   "id": "cde94515",
   "metadata": {},
   "source": [
    "# Step 1: Prompt generator"
   ]
  },
  {
   "cell_type": "markdown",
   "id": "66679c99",
   "metadata": {},
   "source": [
    "Create JSONL files for all permutations of all conditions, to be submitted via the OpenAI/vLLM/Anthropic Batch API. Due to 50,000 max prompts/queries per file, it generates 8 versions\n",
    "\n",
    "Depends on: `input_data/audit_names.xls`\n",
    "\n",
    "Outputs: \n",
    "- For each model, 1 .jsonl and jsonl.zip file to submit to Batch API: `input_data/batch_requests/housing_prompt_v2_{model}.jsonl{|.zip}`\n",
    "- 1 .csv used to track which task_id corresponds to each prompt: `input_data/housing_prompt_v2.csv`"
   ]
  },
  {
   "cell_type": "code",
   "execution_count": null,
   "id": "4b790352",
   "metadata": {
    "tags": []
   },
   "outputs": [],
   "source": [
    "import sys\n",
    "import os\n",
    "import json\n",
    "from tqdm import tqdm\n",
    "import logging\n",
    "import pandas as pd\n",
    "import numpy as np\n",
    "pd.set_option('display.max_rows', 500)"
   ]
  },
  {
   "cell_type": "code",
   "execution_count": null,
   "id": "c2485b16-5be1-4896-84f7-53ab873676b7",
   "metadata": {},
   "outputs": [],
   "source": []
  },
  {
   "cell_type": "code",
   "execution_count": null,
   "id": "98e7a6bb-d7ab-4d6d-87b1-d9f49839a970",
   "metadata": {},
   "outputs": [],
   "source": [
    "with open(\"prefix.txt\", \"r\") as f:\n",
    "    prefix = f.read()\n",
    "prefix"
   ]
  },
  {
   "cell_type": "code",
   "execution_count": null,
   "id": "fd0330c4-a8d7-46e7-9a4d-32078a2e5559",
   "metadata": {
    "tags": []
   },
   "outputs": [],
   "source": [
    "all_models = [\n",
    "    'gpt-3.5-turbo-0125',\n",
    "    'gpt-4o-mini-2024-07-18',\n",
    "    'gpt-4-turbo-2024-04-09',\n",
    "    'gpt-4o-2024-08-06',\n",
    "    'gpt-3.5-turbo-1106',\n",
    "    'inceptionai/jais-family-13b-chat',\n",
    "    'inceptionai/jais-family-6p7b-chat',\n",
    "    'inceptionai/jais-family-2p7b-chat', \n",
    "    'inceptionai/jais-family-1p3b-chat',\n",
    "    'CohereForAI/aya-expanse-8b',\n",
    "    'CohereForAI/aya-expanse-32b',\n",
    "    'google/gemma-2-27b-it',\n",
    "    'google/gemma-2-2b-it',\n",
    "    'google/gemma-2-9b-it',\n",
    "    'google/gemma-7b-it',\n",
    "    'google/gemma-2b-it',\n",
    "    'HuggingFaceTB/SmolLM-1.7B-Instruct',\n",
    "    'HuggingFaceTB/SmolLM2-1.7B-Instruct',\n",
    "    'meta-llama/Llama-3.2-3B-Instruct',\n",
    "    'meta-llama/Llama-3.2-1B-Instruct',\n",
    "    'meta-llama/Llama-3.1-8B-Instruct',\n",
    "    'meta-llama/Meta-Llama-3-8B-Instruct',\n",
    "    'meta-llama/Llama-2-7b-chat-hf',\n",
    "    'mistralai/Mistral-7B-Instruct-v0.1',\n",
    "    'mistralai/Mistral-7B-Instruct-v0.3',\n",
    "    'mistralai/Mistral-Nemo-Instruct-2407', \n",
    "    'mistralai/Mistral-Small-Instruct-2409',\n",
    "    'mistralai/Ministral-8B-Instruct-2410',\n",
    "    'microsoft/Phi-3-mini-4k-instruct',\n",
    "    'Qwen/Qwen2.5-0.5B-Instruct',\n",
    "    'Qwen/Qwen2.5-1.5B-Instruct', \n",
    "    'Qwen/Qwen2.5-3B-Instruct',\n",
    "    'Qwen/Qwen2.5-7B-Instruct', \n",
    "    'claude-3-5-sonnet-20241022',\n",
    "    'claude-3-5-haiku-20241022',\n",
    "    'claude-3-haiku-20240307'\n",
    "]"
   ]
  },
  {
   "cell_type": "code",
   "execution_count": null,
   "id": "7be0b77e-3141-4f21-bd74-765a663caa27",
   "metadata": {},
   "outputs": [],
   "source": [
    "models = [\n",
    "    'gpt-3.5-turbo-0125', \n",
    "    'gpt-4o-mini-2024-07-18', \n",
    "    'gpt-4o-2024-08-06',\n",
    "    'google/gemma-2-2b-it',\n",
    "    'meta-llama/Meta-Llama-3-8B-Instruct',\n",
    "    'meta-llama/Llama-3.2-3B-Instruct',\n",
    "    'microsoft/Phi-3-mini-4k-instruct'\n",
    "]\n",
    "\n",
    "print(len(models))\n",
    "with open(\"models.json\", \"w\") as file:\n",
    "    json.dump(models, file)"
   ]
  },
  {
   "cell_type": "code",
   "execution_count": null,
   "id": "ff38c354-2886-4b82-9f08-98515f807740",
   "metadata": {
    "tags": []
   },
   "outputs": [],
   "source": [
    "def read_applicants(names_fn=\"input_data/audit_names.xlsx\"):\n",
    "    \"\"\"Reads applicant data from the Excel file, matching first and last names by race.\"\"\"\n",
    "    try:\n",
    "        # Load first and last names from the Excel file\n",
    "        df_first = pd.read_excel(names_fn, sheet_name=\"first name\").fillna(\" \")\n",
    "        df_last = pd.read_excel(names_fn, sheet_name=\"last name\").fillna(\" \")\n",
    "        \n",
    "        # Group first and last names by race\n",
    "        first_names_by_race = df_first.groupby('Race')\n",
    "        last_names_by_race = df_last.groupby('Race')\n",
    "        \n",
    "        # Combine first and last names only within the same race\n",
    "        applicants = []\n",
    "        for race in first_names_by_race.groups:\n",
    "            first_names = first_names_by_race.get_group(race)\n",
    "            last_names = last_names_by_race.get_group(race)\n",
    "            \n",
    "            for _, first_row in first_names.iterrows():\n",
    "                count = 0\n",
    "                for _, last_row in last_names.iterrows():\n",
    "                    count += 1\n",
    "                    full_name = f\"{first_row['First Name']} {last_row['Last name']}\"\n",
    "                    applicant = {\n",
    "                        'Full Name': full_name,\n",
    "                        'Gender': first_row['Gender'],\n",
    "                        'Race': last_row['Race'], \n",
    "                    }\n",
    "                    applicants.append(applicant)\n",
    "                    if count == 2:\n",
    "                        break\n",
    "        return applicants\n",
    "    except Exception as e:\n",
    "        logging.error(f\"Error reading names from audit_names.xlsx: {e}\")\n",
    "        sys.exit(1)"
   ]
  },
  {
   "cell_type": "code",
   "execution_count": null,
   "id": "8c4dd802-5850-4d06-bc3f-c7d7a45cb839",
   "metadata": {
    "scrolled": true,
    "tags": []
   },
   "outputs": [],
   "source": [
    "names_list = read_applicants()\n",
    "names_list"
   ]
  },
  {
   "cell_type": "code",
   "execution_count": null,
   "id": "3402b577-393a-4f1d-8881-4c5b83f5153e",
   "metadata": {},
   "outputs": [],
   "source": [
    "len(names_list)"
   ]
  },
  {
   "cell_type": "code",
   "execution_count": null,
   "id": "f6d69b9c-23eb-457d-a8fb-66623cab3298",
   "metadata": {},
   "outputs": [],
   "source": [
    "occupation = ['doctor',\n",
    "              'software engineer',\n",
    "              'accountant',\n",
    "              'teacher',\n",
    "              'retail associate',\n",
    "              'construction worker',\n",
    "              'food service worker',\n",
    "              'college student',\n",
    "              'government worker',\n",
    "              'unemployed',\n",
    "              'None-control'\n",
    "             ]\n",
    "\n",
    "len(occupation)"
   ]
  },
  {
   "cell_type": "code",
   "execution_count": null,
   "id": "a8a95bd8-d67e-458c-9a63-70b0a41fc0ae",
   "metadata": {},
   "outputs": [],
   "source": [
    "living_status = ['just myself', # alone\n",
    "                 'my roommate and I', # one roommate\n",
    "                 'my pet and I', # w pet\n",
    "                 'my spouse and I', # married\n",
    "                 'my family with kids', # married w kids\n",
    "                 'None-control'\n",
    "                ]\n",
    "\n",
    "len(living_status)"
   ]
  },
  {
   "cell_type": "code",
   "execution_count": null,
   "id": "9f786ca2-c1fc-40a6-b329-521e5d7a2c47",
   "metadata": {
    "tags": []
   },
   "outputs": [],
   "source": [
    "row_list = []\n",
    "run_id = 0\n",
    "\n",
    "# 3 copies of each prompt for each name x occupation x living_status combination\n",
    "for name in names_list:\n",
    "    for job in occupation:\n",
    "        for status in living_status:\n",
    "            for x in range(0,3):\n",
    "                row_list.append({'run_id':run_id,\n",
    "                                 'name':name['Full Name'],\n",
    "                                 'gender':name['Gender'],\n",
    "                                 'race':name['Race'],\n",
    "                                 'occupation':job,\n",
    "                                 'living_status': status,\n",
    "                                 'query_response_raw':np.nan,\n",
    "                                 'query_response':np.nan})\n",
    "                run_id += 1"
   ]
  },
  {
   "cell_type": "code",
   "execution_count": null,
   "id": "d36aeb53-ee2c-4416-8ee3-e7301e5cadfa",
   "metadata": {
    "tags": []
   },
   "outputs": [],
   "source": [
    "df = pd.DataFrame(row_list)\n",
    "df"
   ]
  },
  {
   "cell_type": "code",
   "execution_count": null,
   "id": "0ea0e052-9a63-424f-a795-138766d83809",
   "metadata": {
    "scrolled": true,
    "tags": []
   },
   "outputs": [],
   "source": [
    "all_count = df.groupby(['gender', 'race', 'occupation', 'living_status'])['run_id'].count().reset_index()\n",
    "assert all_count['run_id'].nunique() == 1\n",
    "\n",
    "gender_race_count = df.groupby(['gender','race'])['run_id'].count().reset_index()\n",
    "assert gender_race_count['run_id'].nunique() == 1\n",
    "\n",
    "race_occupation_count = df.groupby(['race','occupation'])['run_id'].count().reset_index()\n",
    "assert race_occupation_count['run_id'].nunique() == 1\n",
    "\n",
    "occupation_status_count = df.groupby(['occupation', 'living_status'])['run_id'].count().reset_index()\n",
    "assert occupation_status_count['run_id'].nunique() == 1"
   ]
  },
  {
   "cell_type": "code",
   "execution_count": null,
   "id": "e7f5f513-4cb7-4395-ac54-5144c3d5a083",
   "metadata": {
    "tags": []
   },
   "outputs": [],
   "source": [
    "df.to_csv(f'input_data/{prefix}.csv', index=False)"
   ]
  },
  {
   "cell_type": "markdown",
   "id": "0024716a",
   "metadata": {},
   "source": [
    "## Generate prompts"
   ]
  },
  {
   "cell_type": "code",
   "execution_count": null,
   "id": "6d1ec404-82bb-49b1-bf80-9a06d4773915",
   "metadata": {
    "tags": []
   },
   "outputs": [],
   "source": [
    "df = pd.read_csv(f'input_data/{prefix}.csv')\n",
    "df"
   ]
  },
  {
   "cell_type": "code",
   "execution_count": null,
   "id": "36777da8-df12-4eae-8e1b-c3d766b1d955",
   "metadata": {},
   "outputs": [],
   "source": []
  },
  {
   "cell_type": "code",
   "execution_count": null,
   "id": "63b4f071",
   "metadata": {
    "tags": []
   },
   "outputs": [],
   "source": [
    "def generate_prompt_xx(name, occupation, living_status):   \n",
    "    continue"
   ]
  },
  {
   "cell_type": "code",
   "execution_count": null,
   "id": "fe33968d-f615-4317-9989-a547c8bd6e85",
   "metadata": {},
   "outputs": [],
   "source": [
    "print(generate_prompt_landlord('Charlie Andersen', 'unemployed', 'just myself'))"
   ]
  },
  {
   "cell_type": "code",
   "execution_count": null,
   "id": "ffdaa199-f31f-4dc9-a785-cd0545d18d03",
   "metadata": {},
   "outputs": [],
   "source": [
    "# check control prompt\n",
    "print(generate_prompt_landlord('Charlie Andersen', 'None-control', 'None-control'))"
   ]
  },
  {
   "cell_type": "code",
   "execution_count": null,
   "id": "752d63dd-d381-470f-bdab-6a242fd11a91",
   "metadata": {},
   "outputs": [],
   "source": [
    "!mkdir -p input_data/batch_requests\n",
    "!mkdir -p input_data/batch_results"
   ]
  },
  {
   "cell_type": "code",
   "execution_count": null,
   "id": "e31d1da6-c94b-443a-bb0d-f221a51ab7bc",
   "metadata": {
    "tags": []
   },
   "outputs": [],
   "source": [
    "for version in models:\n",
    "    print(version)\n",
    "    tasks = []\n",
    "    for index, row in df.iterrows():\n",
    "\n",
    "        task = {\n",
    "            \"custom_id\": f\"task-{row['run_id']}\",\n",
    "            \"method\": \"POST\",\n",
    "            \"url\": \"/v1/chat/completions\",\n",
    "            \"body\": {\n",
    "                # This is what you would have in your Chat Completions API call\n",
    "                \"model\": f\"{version}\",\n",
    "                # \"temperature\": 0.7,\n",
    "                # \"max_response_tokens\": 64,\n",
    "                \"messages\": [\n",
    "                    {\n",
    "                        \"role\": \"user\",\n",
    "                        \"content\": generate_prompt_landlord(row['name'], row['occupation'], row['living_status'])\n",
    "                    }\n",
    "                ],\n",
    "            }\n",
    "        }\n",
    "\n",
    "        tasks.append(task)\n",
    "    version = version.split('/')[-1]\n",
    "    file_name = f\"input_data/batch_requests/{prefix}_{version}.jsonl\"\n",
    "    file_name = file_name\n",
    "    \n",
    "    with open(file_name, 'w') as file:\n",
    "        for obj in tasks:\n",
    "            file.write(json.dumps(obj) + '\\n')"
   ]
  },
  {
   "cell_type": "code",
   "execution_count": null,
   "id": "d4028a2f-08ef-46ba-b09b-b953103b4424",
   "metadata": {},
   "outputs": [],
   "source": [
    "len(models)"
   ]
  },
  {
   "cell_type": "code",
   "execution_count": null,
   "id": "e1b585fd-55a3-47d1-a076-b47fc0ea1e4b",
   "metadata": {},
   "outputs": [],
   "source": [
    "!head -n 1 input_data/batch_requests/*.jsonl"
   ]
  },
  {
   "cell_type": "code",
   "execution_count": null,
   "id": "a69482fc-a4a5-4022-b54f-abb57f032ab0",
   "metadata": {},
   "outputs": [],
   "source": [
    "%%bash\n",
    "rm input_data/batch_requests/*.zip\n",
    "for file in input_data/batch_requests/*.jsonl; do\n",
    "    if [ -f \"$file\" ]; then\n",
    "        zip \"${file}.zip\" \"$file\"\n",
    "    fi\n",
    "done\n",
    "ls input_data/batch_requests/*.zip"
   ]
  },
  {
   "cell_type": "code",
   "execution_count": null,
   "id": "707a9150-ffce-45ab-bedb-fa87e264bd47",
   "metadata": {},
   "outputs": [],
   "source": []
  }
 ],
 "metadata": {
  "kernelspec": {
   "display_name": "Python 3 (ipykernel)",
   "language": "python",
   "name": "python3"
  },
  "language_info": {
   "codemirror_mode": {
    "name": "ipython",
    "version": 3
   },
   "file_extension": ".py",
   "mimetype": "text/x-python",
   "name": "python",
   "nbconvert_exporter": "python",
   "pygments_lexer": "ipython3",
   "version": "3.9.12"
  }
 },
 "nbformat": 4,
 "nbformat_minor": 5
}
